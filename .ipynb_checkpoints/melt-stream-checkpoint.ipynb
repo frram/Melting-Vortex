{
 "cells": [
  {
   "cell_type": "code",
   "execution_count": null,
   "metadata": {},
   "outputs": [],
   "source": [
    "import numpy as np\n",
    "import scipy.fftpack as sf\n",
    "import math as mt\n",
    "import glob"
   ]
  },
  {
   "cell_type": "code",
   "execution_count": null,
   "metadata": {},
   "outputs": [],
   "source": [
    "def melting(nx,ny,lx,ly,nt,dt,alpha,w,Fw,omega,isav):\n",
    "    global KX,KY,KX2,KY2,KXD,KYD\n",
    "    kx = 2*np.pi/lx*np.r_[np.arange(nx/2),np.arange(-nx/2,0)]\n",
    "    ky =2*np.pi/ly*np.r_[np.arange(ny/2),np.arange(-ny/2,0)]\n",
    "    kxd=np.r_[np.ones(nx//3),np.zeros(nx//3+nx%3),np.ones(nx//3)]   #for de-aliasing\n",
    "    kyd=np.r_[np.ones(ny//3),np.zeros(ny//3+ny%3),np.ones(ny//3)]   #for de-aliasing\n",
    "    kx2=kx**2; ky2=ky**2\n",
    "    KX ,KY =np.meshgrid(kx ,ky )\n",
    "    KX2,KY2=np.meshgrid(kx2,ky2)\n",
    "    KXD,KYD=np.meshgrid(kxd,kyd)\n",
    "\n",
    "    wf = sf.fft2(w)\n",
    "    psif = wf/(-(KX2+KY2)); psif[0,0] = 0\n",
    "\n",
    "    whst = np.zeros((nt//isav,nx,ny))\n",
    "    psihst = np.zeros((nt//isav,nx,ny))\n",
    "    wfhst = np.zeros((nt//isav,nx,ny))\n",
    "    psifhst = np.zeros((nt//isav,nx,ny))\n",
    "    psifhst[0,:,:] = abs(np.fft.fftshift(psif))\n",
    "    wfhst[0,:,:] = abs(np.fft.fftshift(wf))\n",
    "    whst[0,:,:] = np.real(sf.ifft2(wf))\n",
    "    psihst[0,:,:] = np.real(sf.ifft2(psif))\n",
    "\n",
    "    for it in range(1,nt):\n",
    "        gw1 = adv(wf,omega,alpha,Fw)\n",
    "        gw2 = adv(wf+0.5*dt*gw1,omega,alpha,Fw)\n",
    "        gw3 = adv(wf+0.5*dt*gw2,omega,alpha,Fw)\n",
    "        gw4 = adv(wf+dt*gw3,omega,alpha,Fw)\n",
    "\n",
    "        wf = wf+dt*(gw1+2*gw2+2*gw3+gw4)/6\n",
    "\n",
    "        if(it%isav==0):\n",
    "            psif = wf/(-(KX2+KY2)); psif[0,0]=0\n",
    "\n",
    "            w = np.real(sf.ifft2(wf))\n",
    "            psi = np.real(sf.ifft2(psif))\n",
    "            psifhst[it//isav,:,:] = abs(np.fft.fftshift(psif))\n",
    "            wfhst[it//isav,:,:] = abs(np.fft.fftshift(wf))\n",
    "            whst[it//isav,:,:] = w\n",
    "            psihst[it//isav,:,:] = psi\n",
    "    return whst, wfhst, psihst, psifhst"
   ]
  },
  {
   "cell_type": "code",
   "execution_count": null,
   "metadata": {},
   "outputs": [],
   "source": [
    "def adv(wf,omega,alpha,Fw):\n",
    "    psif = wf/(-(KX2+KY2)); psif[0,0]=0\n",
    "\n",
    "    # psi = np.real(sf.ifft2(psif))\n",
    "    w = np.real(sf.ifft2(wf))\n",
    "\n",
    "    wxf = 1.j*KX*wf; wx = np.real(sf.ifft2(wxf *KXD*KYD))\n",
    "    wyf = 1.j*KY*wf; wy = np.real(sf.ifft2(wyf *KXD*KYD))\n",
    "    etaf = -(KX2+KY2)*wf; eta = np.real(sf.ifft2(etaf))\n",
    "    uxf = 1.j*KY*psif; ux = np.real(sf.ifft2(uxf *KXD*KYD))\n",
    "    uyf = 1.j*KX*psif; uy = np.real(sf.ifft2(uyf *KXD*KYD))\n",
    "\n",
    "    advf = ux*wx - uy*wy + (1/omega)*eta - alpha*w + Fw\n",
    "\n",
    "    advff = sf.fft2(advf)\n",
    "\n",
    "    return advff"
   ]
  },
  {
   "cell_type": "code",
   "execution_count": null,
   "metadata": {},
   "outputs": [],
   "source": [
    "nx=128; ny=128; nt=40000; isav=nt//20\n",
    "# alpha=1; omega=6; beta = 1; n=3\n",
    "alpha = 1; omega=40; beta=2.8; n=4\n",
    "dt=1e-2\n",
    "lx=2*np.pi/0.15; ly=lx\n",
    "dx=lx/nx; dy=ly/ny\n",
    "x = np.arange(nx)*dx\n",
    "y = np.arange(ny)*dy\n",
    "X,Y=np.meshgrid(x,y)\n",
    "\n",
    "Fw = -1*beta*n**3*(np.cos(n*1.0008*X*0.15)+np.cos(n*1.0008*Y*0.15))/omega"
   ]
  },
  {
   "cell_type": "code",
   "execution_count": null,
   "metadata": {},
   "outputs": [],
   "source": [
    "prev = True\n",
    "if prev == True:\n",
    "    w = whst[-1,:,:]\n",
    "else:\n",
    "    wnoise = []\n",
    "    for v in range(1,3):\n",
    "        for b in range(1,3):\n",
    "            wn_temp = (np.sin(v*X*0.15+b*Y*0.15)+np.cos(v*X*0.15+b*Y*0.15))*(b**2/np.sqrt(v**2+b**2))\n",
    "            wnoise.append(wn_temp)\n",
    "    w = -1*n*(np.cos(n*X*0.15)+np.cos(n*Y*0.15))+0.001*sum(wnoise)"
   ]
  },
  {
   "cell_type": "code",
   "execution_count": null,
   "metadata": {},
   "outputs": [],
   "source": [
    "whst, wfhst, psihst, psifhst = melting(nx,ny,lx,ly,nt,dt,alpha,w,Fw,omega,isav)"
   ]
  },
  {
   "cell_type": "code",
   "execution_count": null,
   "metadata": {},
   "outputs": [],
   "source": [
    "from IPython import display\n",
    "import math as mt\n",
    "import matplotlib.animation as animation\n",
    "import matplotlib.pyplot as plt\n",
    "import numpy as np\n",
    "plt.rcParams['font.size'] = 14\n",
    "plt.rcParams['axes.linewidth'] = 1.5\n",
    "plt.rcParams['animation.embed_limit']=60\n",
    "plt.rcParams['animation.html'] = 'jshtml'\n",
    "def update_anim(it):   \n",
    "    fig.clf()\n",
    "    ax1 = fig.add_subplot(221)\n",
    "    ax2 = fig.add_subplot(222)\n",
    "    ax3 = fig.add_subplot(223)\n",
    "    ax4 = fig.add_subplot(224)    \n",
    "    for ax in (ax1, ax2, ax3, ax4):\n",
    "        ax.clear()   \n",
    "    im1=ax1.imshow(whst[it,:,:]            ,aspect='auto',origin='lower',cmap='viridis');ax1.axis('off');fig.colorbar(im1, ax=ax1);ax1.set_title(r'$\\omega\\ (vorticity)$')\n",
    "    im2=ax2.contourf(wfhst[it,:,:]               ,aspect='auto',origin='lower',cmap='jet');ax2.axis('off');fig.colorbar(im2, ax=ax2);ax2.set_title(r'$\\omega_k^2$')\n",
    "    ax2.set_xlim(54,74); ax2.set_ylim(54,74)\n",
    "    im3=ax3.contourf(psihst[it,:,:]            ,aspect='auto',origin='lower',cmap='RdYlBu_r');ax3.axis('on');fig.colorbar(im3, ax=ax3);ax3.set_title(r'$\\psi \\ (streamfunction)$')\n",
    "    im4=ax4.contourf(psifhst[it,:,:],aspect='auto',origin='lower',cmap='plasma');ax4.axis('off');fig.colorbar(im4, ax=ax4);ax4.set_title(r'$\\psi_k^2$')\n",
    "    ax4.set_xlim(54,74); ax4.set_ylim(54,74)"
   ]
  },
  {
   "cell_type": "code",
   "execution_count": null,
   "metadata": {},
   "outputs": [],
   "source": [
    "import glob\n",
    "nt = 40000\n",
    "isav=nt//20\n",
    "fig=plt.figure(figsize=(10,8))\n",
    "anim=animation.FuncAnimation(fig,update_anim,frames=nt//isav)\n",
    "plt.close()\n",
    "anim"
   ]
  },
  {
   "cell_type": "code",
   "execution_count": null,
   "metadata": {},
   "outputs": [],
   "source": [
    "y_size = len(whst[-6,:,0])\n",
    "x_size = len(whst[-6,0,:])\n",
    "total_area=x_size*y_size\n",
    "print(total_area)\n",
    "green_area = 0\n",
    "for i in range(x_size):\n",
    "    for j in range(x_size):\n",
    "        if -0.25 < psihst[-1,j,i]/np.max(psihst[-1,:,:]) < 0.25:\n",
    "            green_area += 1\n",
    "        else:\n",
    "            pass\n",
    "print(green_area/total_area)"
   ]
  },
  {
   "cell_type": "code",
   "execution_count": null,
   "metadata": {},
   "outputs": [],
   "source": [
    "kx = 2*np.pi/lx*np.r_[np.arange(nx/2),np.arange(-nx/2,0)]\n",
    "ky = 2*np.pi/ly*np.r_[np.arange(ny/2),np.arange(-ny/2,0)]\n",
    "kxd = np.r_[np.ones(nx//3),np.zeros(nx//3+nx%3),np.ones(nx//3)]\n",
    "kyd = np.r_[np.ones(ny//3),np.zeros(ny//3+ny%3),np.ones(ny//3)]\n",
    "kx2 = kx**2; ky2 = ky**2\n",
    "KX, KY = np.meshgrid(kx,ky)\n",
    "KX2, KY2 = np.meshgrid(kx2,ky2)\n",
    "KXD,KYD = np.meshgrid(kxd,kyd)"
   ]
  },
  {
   "cell_type": "code",
   "execution_count": null,
   "metadata": {},
   "outputs": [],
   "source": [
    "import scipy.fftpack as sf\n",
    "psi = psihst[-1,:,:]\n",
    "psif = sf.fft2(psi)\n",
    "uxf = 1.j*KY*psif; ux = np.real(sf.ifft2(uxf * KXD*KYD))\n",
    "uyf = 1.j*KX*psif; uy = np.real(sf.ifft2(uyf * KXD*KYD))\n",
    "fig, ax = plt.subplots()\n",
    "vmag = np.sqrt(ux**2+uy**2)/60\n",
    "speed = 5*vmag/vmag.max()\n",
    "ax.streamplot(X,Y,ux,uy,density=5,color='k')\n",
    "plt.tick_params(left = False, right = False , labelleft = False ,\n",
    "                labelbottom = False, bottom = False)\n",
    "plt.tight_layout()\n",
    "plt.show()\n",
    "print(np.max(ux/6),np.max(uy/6))"
   ]
  },
  {
   "cell_type": "code",
   "execution_count": null,
   "metadata": {},
   "outputs": [],
   "source": [
    "ux = ux/17; uy = uy/17\n",
    "# np.savez('./melvel_files/melvel-n-3-omega-06-beta-01.npz',ux=ux,uy=uy)\n",
    "np.savez('./melvel_files/melvel-beta-02p8.npz',ux=ux,uy=uy)"
   ]
  }
 ],
 "metadata": {
  "kernelspec": {
   "display_name": "Python 3",
   "language": "python",
   "name": "python3"
  },
  "language_info": {
   "codemirror_mode": {
    "name": "ipython",
    "version": 3
   },
   "file_extension": ".py",
   "mimetype": "text/x-python",
   "name": "python",
   "nbconvert_exporter": "python",
   "pygments_lexer": "ipython3",
   "version": "3.7.2"
  }
 },
 "nbformat": 4,
 "nbformat_minor": 2
}
